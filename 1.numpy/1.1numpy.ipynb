{
 "cells": [
  {
   "cell_type": "markdown",
   "id": "7b4f8122",
   "metadata": {},
   "source": [
    "# 1. Numpy基础\n",
    "## 1.1 Ndarray 对象\n",
    "numpy中的ndarray对象是一个多维数组对象，它是一系列同类型数据的集合，索引从0开始。\n",
    "ndarray对象时用于存放同类型元素的多维数组；\n",
    "ndarray中的每个元素在内存中都有相同存储大小的区域；\n",
    "ndarray内部有以下内容组成：\n",
    "- 一个只想数据的（内存或内存映射文件中的一块数据）的指针；\n",
    "- 数据类型或dtype，描述在数组中的固定大小值得格子；\n",
    "- 一个表示数组形状（shape）的元组，表示各维度大小的元组；\n",
    "- 一个跨度元组（stride），其中的整数指的是为了前进到当前维度下一个元素需要跨过的字节数，跨度可以是负数。\n",
    "\n",
    "## 1.2 创建ndarray对象\n",
    "> 创建一个ndarray对象的最简单方法是使用numpy.array()函数。\n",
    "\n",
    "```python\n",
    "import numpy as np\n",
    "\n",
    "np.array(object, dtype = None, copy = True, order = None, subok = False, ndmin = 0)\n",
    "```\n",
    "\n",
    "**参数说明**：\n",
    "|名称|说明|\n",
    "|:--|:--|\n",
    "|object|要转换为ndarray对象的对象，可以是列表、元组、数组等|\n",
    "|dtype|数据类型，指定ndarray对象中元素的数据类型|\n",
    "|copy|是否复制对象|\n",
    "|order|创建数组得样式，'C'表示行优先，'F'表示列优先，'A'为任意方向|\n",
    "|subok|是否返回子类|\n",
    "|ndmin|指定ndarray对象的最小维数|\n",
    "\n",
    "实例如下："
   ]
  },
  {
   "cell_type": "code",
   "execution_count": 16,
   "id": "52d8f63f",
   "metadata": {},
   "outputs": [
    {
     "name": "stdout",
     "output_type": "stream",
     "text": [
      "[1 2 3]\n"
     ]
    }
   ],
   "source": [
    "import numpy as np\n",
    "\n",
    "a = np.array([1, 2, 3])\n",
    "print(a)"
   ]
  },
  {
   "cell_type": "code",
   "execution_count": 17,
   "id": "12804642",
   "metadata": {},
   "outputs": [
    {
     "name": "stdout",
     "output_type": "stream",
     "text": [
      "[[1 2]\n",
      " [3 4]]\n"
     ]
    }
   ],
   "source": [
    "import numpy as np\n",
    "\n",
    "b = np.array([[1, 2], [3, 4]])\n",
    "print(b)"
   ]
  },
  {
   "cell_type": "code",
   "execution_count": 18,
   "id": "b58ac2f5",
   "metadata": {},
   "outputs": [
    {
     "name": "stdout",
     "output_type": "stream",
     "text": [
      "[[1 2 3 4 5 6]]\n",
      "(1, 6)\n",
      "[[1 2]\n",
      " [3 4]\n",
      " [5 6]]\n",
      "(3, 2)\n",
      "2\n"
     ]
    }
   ],
   "source": [
    "import numpy as np\n",
    "\n",
    "c = np.array([1, 2, 3, 4, 5, 6], ndmin=2)\n",
    "print(c)\n",
    "print(c.shape)\n",
    "\n",
    "c = c.reshape(3, 2)\n",
    "print(c)\n",
    "print(c.shape)\n",
    "print(c[0, 1])"
   ]
  },
  {
   "cell_type": "code",
   "execution_count": 19,
   "id": "4e50ad91",
   "metadata": {},
   "outputs": [
    {
     "name": "stdout",
     "output_type": "stream",
     "text": [
      "[1. 2. 3.]\n",
      "float32\n",
      "[1 2 3]\n",
      "int32\n",
      "[1. 2. 3.]\n",
      "float64\n",
      "[1.+0.j 2.+0.j 3.+0.j]\n",
      "complex128\n"
     ]
    }
   ],
   "source": [
    "import numpy as np\n",
    "\n",
    "d = np.array([1, 2, 3], dtype=np.float32)\n",
    "print(d)\n",
    "print(d.dtype)\n",
    "\n",
    "d = d.astype(np.int32)\n",
    "print(d)\n",
    "print(d.dtype)\n",
    "\n",
    "d = d.astype(np.float64)\n",
    "print(d)\n",
    "print(d.dtype)\n",
    "\n",
    "d = d.astype(complex)\n",
    "print(d)\n",
    "print(d.dtype)"
   ]
  },
  {
   "cell_type": "markdown",
   "id": "acf4b915",
   "metadata": {},
   "source": [
    "ndarray 对象由计算机内存的连续一维部分组成，并结合索引模式，将每个元素映射到内存块中的一个位置。内存块以行顺序（C样式）或列顺序（Fortran样式或Matlab风格）存储。"
   ]
  },
  {
   "cell_type": "markdown",
   "id": "43e9a0c7",
   "metadata": {},
   "source": [
    "## 1.3 numpy数据类型\n",
    "numpy支持的数据类型比python内置数据类型要多，numpy中的数据类型有：\n",
    "|名称|说明|取值范围|\n",
    "|:--|:--|:--|\n",
    "|bool_|布尔型|True或False|\n",
    "|int_|整数型|-2^31~2^31-1|\n",
    "|intp|整数型|与平台相关，32位或64位|\n",
    "|int8|整数型|-128~127|\n",
    "|int16|整数型|-32768~32767|\n",
    "|int32|整数型|-2147483648~2147483647|\n",
    "|int64|整数型|-9223372036854775808~9223372036854775807|\n",
    "|uint8|无符号整数型|0~255|\n",
    "|uint16|无符号整数型|0~65535|\n",
    "|uint32|无符号整数型|0~4294967295|\n",
    "|uint64|无符号整数型|0~18446744073709551615|\n",
    "|float_|浮点型|与平台相关，32位或64位|\n",
    "|float16|浮点型|半精度，1位符号位，5位指数位，10位尾数位|\n",
    "|float32|浮点型|单精度，1位符号位，8位指数位，23位尾数位|\n",
    "|float64|浮点型|双精度，1位符号位，11位指数位，52位尾数位|\n",
    "|complex_|复数型|与平台相关，32位或64位|\n",
    "|complex64|复数型|单精度，1位符号位，8位指数位，23位尾数位|\n",
    "|complex128|复数型|双精度，1位符号位，11位指数位，52位尾数位|\n",
    "|str_|字符串型|长度不定|\n",
    "\n",
    "#### 数据类型对象（dtype）\n",
    "数据类型对象（numpy.dtype类的实例）用来描述与数组对应地内存区域时如何使用，它描述了数据的以下几个方面：\n",
    "- 数据类型（整数、浮点数、或python对象）\n",
    "- 数据的大小（如整数使用多少个字节存储）\n",
    "- 数据的字节顺序（大端或小端）\n",
    "- 在结构化类型的情况下，字段的名称、每个字段的数据类型和每个字段所取得内存块的部分\n",
    "- 如果数据类型是子数组，那么它的形状和数据类型是什么\n",
    "\n",
    "字节顺序通过对数据类型预设`>`、`<`来决定，"
   ]
  }
 ],
 "metadata": {
  "kernelspec": {
   "display_name": "base",
   "language": "python",
   "name": "python3"
  },
  "language_info": {
   "codemirror_mode": {
    "name": "ipython",
    "version": 3
   },
   "file_extension": ".py",
   "mimetype": "text/x-python",
   "name": "python",
   "nbconvert_exporter": "python",
   "pygments_lexer": "ipython3",
   "version": "3.12.7"
  }
 },
 "nbformat": 4,
 "nbformat_minor": 5
}
